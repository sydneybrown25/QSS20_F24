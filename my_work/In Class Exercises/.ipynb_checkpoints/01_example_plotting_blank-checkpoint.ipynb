{
 "cells": [
  {
   "cell_type": "code",
   "execution_count": null,
   "metadata": {},
   "outputs": [],
   "source": [
    "## imports\n",
    "import pandas as pd\n",
    "import numpy as np\n",
    "import seaborn as sns\n",
    "\n",
    "## import the plotnine package\n",
    "## make sure it's installed\n",
    "## if not installed, can use\n",
    "## ! pip install plotnine\n",
    "# import plotnine\n",
    "# from plotnine import *\n",
    "\n",
    "import matplotlib.pyplot as plt"
   ]
  },
  {
   "cell_type": "markdown",
   "metadata": {},
   "source": [
    "# A few plot types"
   ]
  },
  {
   "cell_type": "markdown",
   "metadata": {},
   "source": [
    "## Load DC crime data"
   ]
  },
  {
   "cell_type": "code",
   "execution_count": null,
   "metadata": {},
   "outputs": [],
   "source": [
    "## load data on 2020 crimes in DC\n",
    "df = dc_crim_2020 = pd.read_csv(\"https://opendata.arcgis.com/datasets/f516e0dd7b614b088ad781b0c4002331_2.csv\")"
   ]
  },
  {
   "cell_type": "markdown",
   "metadata": {},
   "source": [
    "## Plot type one: bar plot\n",
    "\n",
    "**Goal**: bar plot where x axis is what shift it is; y axis is the count of unique crime reports (using `OBJECT_ID` as unique indicator)"
   ]
  },
  {
   "cell_type": "code",
   "execution_count": null,
   "metadata": {},
   "outputs": [],
   "source": [
    "## step one: create the summary we want to plot\n",
    "C = count_byshift = pd.DataFrame(df.groupby('SHIFT')['OBJECTID'].nunique()).reset_index()\n",
    "count_byshift\n"
   ]
  },
  {
   "cell_type": "markdown",
   "metadata": {},
   "source": [
    "#### Explore the data: Make a simple graph and see if you need it"
   ]
  },
  {
   "cell_type": "code",
   "execution_count": null,
   "metadata": {},
   "outputs": [],
   "source": [
    "plt.bar(C.index, C.OBJECTID)\n",
    "plt.xticks(C.index, C.SHIFT)"
   ]
  },
  {
   "cell_type": "code",
   "execution_count": null,
   "metadata": {},
   "outputs": [],
   "source": []
  },
  {
   "cell_type": "markdown",
   "metadata": {},
   "source": [
    "#### Make the graph look pretty"
   ]
  },
  {
   "cell_type": "code",
   "execution_count": null,
   "metadata": {},
   "outputs": [],
   "source": [
    "plt.figure(figsize=(10,7)) # Define the size of the graph\n",
    "\n",
    "plt.bar(C.index, C.OBJECTID, label = \"# of Reports\", \n",
    "        color=\"firebrick\") # Define the figure object\n",
    "\n",
    "plt.xticks(C.index, C.SHIFT, fontsize=20)\n",
    "plt.yticks(fontsize=20)\n",
    "plt.xlabel(\"Shift\", fontsize=20)\n",
    "plt.ylabel(\"Freq.\", fontsize=20)\n",
    "\n",
    "plt.legend(fontsize=20)\n",
    "\n",
    "plt.savefig(\"barplot.png\", bbox_inches=\"tight\")"
   ]
  },
  {
   "cell_type": "markdown",
   "metadata": {},
   "source": [
    "#### Try it yourself with METHOD\n",
    "Create a bar chart on the METHOD column.\n",
    "Named colors: https://matplotlib.org/stable/gallery/color/named_colors.html"
   ]
  },
  {
   "cell_type": "code",
   "execution_count": null,
   "metadata": {},
   "outputs": [],
   "source": []
  },
  {
   "cell_type": "code",
   "execution_count": null,
   "metadata": {},
   "outputs": [],
   "source": []
  },
  {
   "cell_type": "markdown",
   "metadata": {},
   "source": [
    "# Histograms and Densities"
   ]
  },
  {
   "cell_type": "code",
   "execution_count": null,
   "metadata": {},
   "outputs": [],
   "source": [
    "plt.hist( df.X, bins=20 )"
   ]
  },
  {
   "cell_type": "code",
   "execution_count": null,
   "metadata": {},
   "outputs": [],
   "source": [
    "sns.kdeplot( df.X - df.X.mean())\n",
    "sns.kdeplot( df.Y - df.Y.mean())"
   ]
  },
  {
   "cell_type": "markdown",
   "metadata": {},
   "source": [
    "#### Your Turn: Add labels (X and Y), plot the legend, and change the color of your density\n",
    "- What are the differences in distribution you observe?"
   ]
  },
  {
   "cell_type": "code",
   "execution_count": null,
   "metadata": {},
   "outputs": [],
   "source": []
  },
  {
   "cell_type": "code",
   "execution_count": null,
   "metadata": {},
   "outputs": [],
   "source": []
  },
  {
   "cell_type": "markdown",
   "metadata": {},
   "source": [
    "## Two dimensional density plots"
   ]
  },
  {
   "cell_type": "code",
   "execution_count": null,
   "metadata": {},
   "outputs": [],
   "source": [
    "sns.kdeplot(x = df.X, y = df.Y)"
   ]
  },
  {
   "cell_type": "markdown",
   "metadata": {},
   "source": [
    "#### Your turn: Plot the densities for WARDS 1, 2, and 3\n",
    "\n",
    "- Sample 100 for each ward.\n",
    "- Should take six lines of code. Hint: Do it for 1 first."
   ]
  },
  {
   "cell_type": "code",
   "execution_count": null,
   "metadata": {},
   "outputs": [],
   "source": []
  },
  {
   "cell_type": "code",
   "execution_count": null,
   "metadata": {},
   "outputs": [],
   "source": []
  },
  {
   "cell_type": "code",
   "execution_count": null,
   "metadata": {},
   "outputs": [],
   "source": []
  },
  {
   "cell_type": "markdown",
   "metadata": {},
   "source": [
    "# Line Plots\n",
    "**Goal**: bar plot where x axis is month; y axis is the count of unique crime reports (using `OBJECT_ID` as unique indicator); want line graph to be able to see trends over time in count of reported crimes"
   ]
  },
  {
   "cell_type": "code",
   "execution_count": null,
   "metadata": {},
   "outputs": [],
   "source": [
    "df['report_month'] = pd.to_datetime(df.REPORT_DAT).dt.month\n",
    "df[[\"REPORT_DAT\", \"report_month\"]].sample(n = 3)"
   ]
  },
  {
   "cell_type": "code",
   "execution_count": null,
   "metadata": {},
   "outputs": [],
   "source": [
    "### Group by month and find unique reports; same syntax as above\n",
    "\n",
    "C = count_bymonth = df.groupby('report_month')['OBJECTID'].nunique().reset_index()\n",
    "C"
   ]
  },
  {
   "cell_type": "code",
   "execution_count": null,
   "metadata": {},
   "outputs": [],
   "source": [
    "plt.plot(C.report_month, C.OBJECTID)\n",
    "\n",
    "plt.scatter(C.report_month, C.OBJECTID, \n",
    "            s=100, c=\"red\")\n",
    "\n",
    "plt.ylim(0,4000)"
   ]
  },
  {
   "cell_type": "markdown",
   "metadata": {},
   "source": [
    "#### Your Turn: Now add the appropriate x and y labels following the same logic as the bar graph"
   ]
  },
  {
   "cell_type": "code",
   "execution_count": null,
   "metadata": {},
   "outputs": [],
   "source": []
  },
  {
   "cell_type": "code",
   "execution_count": null,
   "metadata": {},
   "outputs": [],
   "source": []
  },
  {
   "cell_type": "code",
   "execution_count": null,
   "metadata": {},
   "outputs": [],
   "source": []
  },
  {
   "cell_type": "markdown",
   "metadata": {},
   "source": [
    "# Read on if you have experience with R & ggplot (and prefer it)\n",
    "This is here for a quick reference in how to use R-based ggplot in python. \n",
    "I almost only use Python, but this is personal preference."
   ]
  },
  {
   "cell_type": "markdown",
   "metadata": {},
   "source": [
    "### Other ways to create bars"
   ]
  },
  {
   "cell_type": "code",
   "execution_count": null,
   "metadata": {},
   "outputs": [],
   "source": [
    "\n",
    "## one way: plot and display in notebook\n",
    "(ggplot(count_byshift, aes(x = 'SHIFT', \n",
    "            y = 'OBJECTID')) + # base layer with data and x and y axis \n",
    "            geom_bar(stat = \"identity\", fill = \"firebrick\") + # telling it to expect a bar chart; identity\n",
    "             # arg just means to use the y value \n",
    "            theme_classic() + # aesthetics\n",
    "            xlab(\"Which shift?\") + # custom label for x axis\n",
    "            ylab(\"Count of crimes\") + # custom label for y axis\n",
    "            theme(axis_text = element_text(size = 14, color = \"black\"))) # make font bigger\n"
   ]
  },
  {
   "cell_type": "code",
   "execution_count": null,
   "metadata": {},
   "outputs": [],
   "source": [
    "\n",
    "## another way: save to png- right now,\n",
    "## it's writing to same path our df is stored in; \n",
    "plot_shifts = (ggplot(count_byshift, aes(x = 'SHIFT', \n",
    "            y = 'OBJECTID')) +\n",
    "            geom_bar(stat = \"identity\", fill = \"firebrick\") +\n",
    "            theme_classic() +\n",
    "            xlab(\"Which shift?\") +\n",
    "            ylab(\"Count of crimes\") +\n",
    "            theme(axis_text = element_text(size = 14, color = \"black\")))\n",
    "plot_shifts.save(\"plot_shifts.png\", \n",
    "                width = 12,\n",
    "                height = 8,\n",
    "                verbose = False)\n",
    "\n",
    "\n",
    "## what happens if we don't specify theme or color of bars? diff aesthetics\n",
    "## also doesnt give us informative x and y labels (for pset please give \n",
    "## informative labels)\n",
    "(ggplot(count_byshift, aes(x = 'SHIFT', \n",
    "            y = 'OBJECTID')) +\n",
    "            geom_bar(stat = \"identity\"))"
   ]
  },
  {
   "cell_type": "markdown",
   "metadata": {},
   "source": [
    "## Plot type two: line graph"
   ]
  },
  {
   "cell_type": "markdown",
   "metadata": {},
   "source": []
  },
  {
   "cell_type": "code",
   "execution_count": null,
   "metadata": {},
   "outputs": [],
   "source": [
    "## group by month and find unique reports\n",
    "### first, extract month from report_dat (just \n",
    "### with the noncleaned version)\n",
    "\n",
    "dc_crim_2020['report_month'] = pd.to_datetime(dc_crim_2020.REPORT_DAT,\n",
    "                                             errors = \"coerce\").dt.month\n",
    "### double check this worked\n",
    "dc_crim_2020[[\"REPORT_DAT\", \"report_month\"]].sample(n = 3)\n",
    "\n",
    "### then, group by month and find unique reports; same syntax as above\n",
    "### just a diff grouping variable \n",
    "count_bymonth = pd.DataFrame(dc_crim_2020.groupby('report_month')['OBJECTID'].nunique()).reset_index()\n",
    "count_bymonth\n"
   ]
  },
  {
   "cell_type": "code",
   "execution_count": null,
   "metadata": {},
   "outputs": [],
   "source": [
    "\n",
    "### finally, plot result as line graph\n",
    "### nearly identical syntax to above\n",
    "### but uses month as the xaxis rather than\n",
    "### police shift and geom_line()\n",
    "### rather than geom_bar()\n",
    "(ggplot(count_bymonth, aes(x = 'report_month', \n",
    "            y = 'OBJECTID')) +\n",
    "            geom_line() +\n",
    "            ylim(0, 3500) +\n",
    "            xlab(\"Month of report\\n(1 = jan; 12 = dec)\") +\n",
    "            ylab(\"Number of crime reports\") +\n",
    "            scale_x_continuous(breaks = np.arange(1, 13)))"
   ]
  },
  {
   "cell_type": "markdown",
   "metadata": {},
   "source": [
    "## Making more complex: adding facets\n",
    "\n",
    "What if we want to create the above but visualize separately for each ward?\n",
    "\n",
    "Can group by two variables (see lecture slide) and add a line to facet_wrap"
   ]
  },
  {
   "cell_type": "code",
   "execution_count": null,
   "metadata": {},
   "outputs": [],
   "source": [
    "### add ward as grouping var\n",
    "count_bymonth_byw = pd.DataFrame(dc_crim_2020.groupby(['report_month',\n",
    "                                                   'WARD'])['OBJECTID'].nunique()).reset_index()\n",
    "count_bymonth_byw.head()\n",
    "count_bymonth_byw.tail()\n",
    "\n",
    "## make the facetting var prettier \n",
    "## by noting \"Ward\" before the\n",
    "count_bymonth_byw['WARD_name'] = 'Ward: ' + count_bymonth_byw.WARD.astype(str)\n",
    "\n",
    "### finally, plot result as line graph\n",
    "### nearly identical syntax to above\n",
    "### but uses month as the xaxis rather than\n",
    "### police shift and geom_line()\n",
    "### rather than geom_bar()\n",
    "(ggplot(count_bymonth_byw, aes(x = 'report_month', \n",
    "            y = 'OBJECTID')) +\n",
    "            geom_line(color = \"red\") +\n",
    "            xlab(\"Month of report\\n(1 = jan; 12 = dec)\") +\n",
    "            ylab(\"Number of crime reports\") +\n",
    "            facet_wrap('WARD_name', ncol = 2) + # ADDITIONAL LINE \n",
    "            scale_x_continuous(breaks = np.arange(1, 13)) +\n",
    "            theme_538() # using 538 theme \n",
    "            ) "
   ]
  },
  {
   "cell_type": "code",
   "execution_count": null,
   "metadata": {},
   "outputs": [],
   "source": [
    "### rather than geom_bar()\n",
    "(ggplot(count_bymonth_byw, aes(x = 'report_month', \n",
    "            y = 'OBJECTID', group = 'factor(WARD)', color = 'factor(WARD)')) +\n",
    "            geom_line() +\n",
    "            xlab(\"Month of report\\n(1 = jan; 12 = dec)\") +\n",
    "            ylab(\"Number of crime reports\") +\n",
    "            scale_x_continuous(breaks = np.arange(1, 13)) +\n",
    "            theme_538() + # using 538 theme +\n",
    "             labs(color = \"Ward\") +\n",
    "             ylim(0, 700)\n",
    "            ) "
   ]
  }
 ],
 "metadata": {
  "kernelspec": {
   "display_name": "Python 3 (ipykernel)",
   "language": "python",
   "name": "python3"
  },
  "language_info": {
   "codemirror_mode": {
    "name": "ipython",
    "version": 3
   },
   "file_extension": ".py",
   "mimetype": "text/x-python",
   "name": "python",
   "nbconvert_exporter": "python",
   "pygments_lexer": "ipython3",
   "version": "3.9.12"
  }
 },
 "nbformat": 4,
 "nbformat_minor": 4
}
